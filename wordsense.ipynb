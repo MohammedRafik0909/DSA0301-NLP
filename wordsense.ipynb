{
  "nbformat": 4,
  "nbformat_minor": 0,
  "metadata": {
    "colab": {
      "provenance": [],
      "authorship_tag": "ABX9TyMw1y27P2HOjwQiwGfidDI9",
      "include_colab_link": true
    },
    "kernelspec": {
      "name": "python3",
      "display_name": "Python 3"
    },
    "language_info": {
      "name": "python"
    }
  },
  "cells": [
    {
      "cell_type": "markdown",
      "metadata": {
        "id": "view-in-github",
        "colab_type": "text"
      },
      "source": [
        "<a href=\"https://colab.research.google.com/github/MohammedRafik0909/DSA0301-NLP/blob/main/wordsense.ipynb\" target=\"_parent\"><img src=\"https://colab.research.google.com/assets/colab-badge.svg\" alt=\"Open In Colab\"/></a>"
      ]
    },
    {
      "cell_type": "code",
      "execution_count": 1,
      "metadata": {
        "id": "jkPlQ8epqCQR"
      },
      "outputs": [],
      "source": [
        "%%capture\n",
        "import nltk\n",
        "from nltk.wsd import lesk\n",
        "from nltk.tokenize import word_tokenize\n",
        "nltk.download('all')\n"
      ]
    },
    {
      "cell_type": "code",
      "source": [
        "def get_semantic(seq, key_word):\n",
        "\n",
        "\t# Tokenization of the sequence\n",
        "\ttemp = word_tokenize(seq)\n",
        "\n",
        "\t# Retrieving the definition\n",
        "\t# of the tokens\n",
        "\ttemp = lesk(temp, key_word)\n",
        "\treturn temp.definition()\n"
      ],
      "metadata": {
        "id": "88G-MzIBqDW4"
      },
      "execution_count": 2,
      "outputs": []
    },
    {
      "cell_type": "code",
      "source": [
        "keyword = 'book'\n",
        "seq1 = 'I love reading books on coding.'\n",
        "seq2 = 'The table was already booked by someone else.'\n",
        "\n",
        "print(get_semantic(seq1, keyword))\n",
        "print(get_semantic(seq2, keyword))\n"
      ],
      "metadata": {
        "colab": {
          "base_uri": "https://localhost:8080/"
        },
        "id": "ERx-u0ytqWGX",
        "outputId": "d97948ec-96b7-4c6b-bc1d-7460332af250"
      },
      "execution_count": 3,
      "outputs": [
        {
          "output_type": "stream",
          "name": "stdout",
          "text": [
            "a number of sheets (ticket or stamps etc.) bound together on one edge\n",
            "arrange for and reserve (something for someone else) in advance\n"
          ]
        }
      ]
    },
    {
      "cell_type": "code",
      "source": [],
      "metadata": {
        "id": "bllrXjCKqfgo"
      },
      "execution_count": null,
      "outputs": []
    }
  ]
}
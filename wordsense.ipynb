{
  "nbformat": 4,
  "nbformat_minor": 0,
  "metadata": {
    "colab": {
      "provenance": [],
      "authorship_tag": "ABX9TyNXGTm/8yE+uD3qv0fx4sOE",
      "include_colab_link": true
    },
    "kernelspec": {
      "name": "python3",
      "display_name": "Python 3"
    },
    "language_info": {
      "name": "python"
    }
  },
  "cells": [
    {
      "cell_type": "markdown",
      "metadata": {
        "id": "view-in-github",
        "colab_type": "text"
      },
      "source": [
        "<a href=\"https://colab.research.google.com/github/MohammedRafik0909/DSA0301-NLP/blob/main/wordsense.ipynb\" target=\"_parent\"><img src=\"https://colab.research.google.com/assets/colab-badge.svg\" alt=\"Open In Colab\"/></a>"
      ]
    },
    {
      "cell_type": "code",
      "source": [
        "import nltk\n",
        "from nltk.corpus import wordnet\n",
        "from nltk.wsd import lesk\n",
        "\n",
        "# Download WordNet data (if not already downloaded)\n",
        "nltk.download('wordnet')\n",
        "\n",
        "# Sample sentence with a polysemous word\n",
        "sentence = \"I saw a bat flying in the sky.\"\n",
        "\n",
        "# Tokenize the sentence\n",
        "tokens = nltk.word_tokenize(sentence)\n",
        "\n",
        "# Perform word sense disambiguation using the Lesk algorithm\n",
        "for word in tokens:\n",
        "    synset = lesk(tokens, word)\n",
        "    if synset:\n",
        "        print(f\"Word: {word}\")\n",
        "        print(f\"Synset: {synset.name()}\")\n",
        "        print(f\"Definition: {synset.definition()}\")\n",
        "        print()"
      ],
      "metadata": {
        "colab": {
          "base_uri": "https://localhost:8080/"
        },
        "id": "bllrXjCKqfgo",
        "outputId": "ffe0c7d7-ec9d-40b0-ef77-46ca86359043"
      },
      "execution_count": 4,
      "outputs": [
        {
          "output_type": "stream",
          "name": "stdout",
          "text": [
            "Word: I\n",
            "Synset: iodine.n.01\n",
            "Definition: a nonmetallic element belonging to the halogens; used especially in medicine and photography and in dyes; occurs naturally only in combination in small quantities (as in sea water or rocks)\n",
            "\n",
            "Word: saw\n",
            "Synset: saw.v.01\n",
            "Definition: cut with a saw\n",
            "\n",
            "Word: a\n",
            "Synset: deoxyadenosine_monophosphate.n.01\n",
            "Definition: one of the four nucleotides used in building DNA; all four nucleotides have a common phosphate group and a sugar (ribose)\n",
            "\n",
            "Word: bat\n",
            "Synset: cricket_bat.n.01\n",
            "Definition: the club used in playing cricket\n",
            "\n",
            "Word: flying\n",
            "Synset: fly.v.10\n",
            "Definition: display in the air or cause to float\n",
            "\n",
            "Word: in\n",
            "Synset: indium.n.01\n",
            "Definition: a rare soft silvery metallic element; occurs in small quantities in sphalerite\n",
            "\n",
            "Word: sky\n",
            "Synset: sky.n.01\n",
            "Definition: the atmosphere and outer space as viewed from the earth\n",
            "\n"
          ]
        }
      ]
    },
    {
      "cell_type": "code",
      "source": [],
      "metadata": {
        "id": "GAaJAROvtVRX"
      },
      "execution_count": null,
      "outputs": []
    }
  ]
}
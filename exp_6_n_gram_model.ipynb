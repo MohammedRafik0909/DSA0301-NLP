{
  "nbformat": 4,
  "nbformat_minor": 0,
  "metadata": {
    "colab": {
      "provenance": [],
      "authorship_tag": "ABX9TyOapCImHUgU6yXWuzTj3bNL",
      "include_colab_link": true
    },
    "kernelspec": {
      "name": "python3",
      "display_name": "Python 3"
    },
    "language_info": {
      "name": "python"
    }
  },
  "cells": [
    {
      "cell_type": "markdown",
      "metadata": {
        "id": "view-in-github",
        "colab_type": "text"
      },
      "source": [
        "<a href=\"https://colab.research.google.com/github/MohammedRafik0909/DSA0301-NLP/blob/main/exp_6_n_gram_model.ipynb\" target=\"_parent\"><img src=\"https://colab.research.google.com/assets/colab-badge.svg\" alt=\"Open In Colab\"/></a>"
      ]
    },
    {
      "cell_type": "code",
      "execution_count": null,
      "metadata": {
        "colab": {
          "base_uri": "https://localhost:8080/"
        },
        "id": "5lKYLui0vOTh",
        "outputId": "9599e5c1-b526-40c2-8685-578523fbb5c0"
      },
      "outputs": [
        {
          "output_type": "stream",
          "name": "stdout",
          "text": [
            "Generated text: The lazy dog barks loudly. The lazy dog. The quick\n"
          ]
        }
      ],
      "source": [
        "import random\n",
        "from collections import defaultdict\n",
        "\n",
        "def build_bigram_model(text):\n",
        "    bigram_model = defaultdict(list)\n",
        "    words = text.split()\n",
        "\n",
        "    for i in range(len(words) - 1):\n",
        "        current_word, next_word = words[i], words[i + 1]\n",
        "        bigram_model[current_word].append(next_word)\n",
        "\n",
        "    return bigram_model\n",
        "\n",
        "def generate_text_bigram(bigram_model, start_word, num_words=10):\n",
        "    current_word = start_word\n",
        "    generated_text = [current_word]\n",
        "\n",
        "    for _ in range(num_words - 1):\n",
        "        possible_next_words = bigram_model[current_word]\n",
        "        if not possible_next_words:\n",
        "            break\n",
        "\n",
        "        next_word = random.choice(possible_next_words)\n",
        "        generated_text.append(next_word)\n",
        "        current_word = next_word\n",
        "\n",
        "    return ' '.join(generated_text)\n",
        "\n",
        "# Example text\n",
        "input_text = \"The quick brown fox jumps over the lazy dog. The lazy dog barks loudly. The quick fox looks back and runs away.\"\n",
        "\n",
        "# Build the bigram model\n",
        "bigram_model = build_bigram_model(input_text)\n",
        "\n",
        "# Generate text using the bigram model\n",
        "start_word = \"The\"\n",
        "generated_text = generate_text_bigram(bigram_model, start_word, num_words=10)\n",
        "\n",
        "print(f\"Generated text: {generated_text}\")\n"
      ]
    },
    {
      "cell_type": "code",
      "source": [],
      "metadata": {
        "id": "0tdExvvtvPrh"
      },
      "execution_count": null,
      "outputs": []
    }
  ]
}
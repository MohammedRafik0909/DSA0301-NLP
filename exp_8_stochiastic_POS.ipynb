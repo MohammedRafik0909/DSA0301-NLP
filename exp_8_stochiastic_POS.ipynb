{
  "nbformat": 4,
  "nbformat_minor": 0,
  "metadata": {
    "colab": {
      "provenance": [],
      "authorship_tag": "ABX9TyOjqPsTypWuc5YOrRUi6YzJ",
      "include_colab_link": true
    },
    "kernelspec": {
      "name": "python3",
      "display_name": "Python 3"
    },
    "language_info": {
      "name": "python"
    }
  },
  "cells": [
    {
      "cell_type": "markdown",
      "metadata": {
        "id": "view-in-github",
        "colab_type": "text"
      },
      "source": [
        "<a href=\"https://colab.research.google.com/github/MohammedRafik0909/DSA0301-NLP/blob/main/exp_8_stochiastic_POS.ipynb\" target=\"_parent\"><img src=\"https://colab.research.google.com/assets/colab-badge.svg\" alt=\"Open In Colab\"/></a>"
      ]
    },
    {
      "cell_type": "code",
      "execution_count": 1,
      "metadata": {
        "colab": {
          "base_uri": "https://localhost:8080/"
        },
        "id": "2elCCLadzsBg",
        "outputId": "e71c7f1b-9c2b-4e84-d5e0-b5022532936a"
      },
      "outputs": [
        {
          "output_type": "stream",
          "name": "stdout",
          "text": [
            "Word\t\tPOS Tag\n",
            "----------------------\n",
            "The\t\tNN\n",
            "quick\t\tJJ\n",
            "brown\t\tJJ\n",
            "fox\t\tNN\n",
            "jumps\t\tVB\n",
            "over\t\tIN\n",
            "the\t\tRB\n",
            "lazy\t\tJJ\n",
            "dog.\t\tNN\n"
          ]
        }
      ],
      "source": [
        "import random\n",
        "\n",
        "# Simple probabilistic model for part-of-speech tagging\n",
        "pos_model = {\n",
        "    'The': {'DT': 0.8, 'NN': 0.2},\n",
        "    'quick': {'JJ': 0.7, 'RB': 0.3},\n",
        "    'brown': {'JJ': 0.6, 'NN': 0.4},\n",
        "    'fox': {'NN': 0.9, 'VB': 0.1},\n",
        "    'jumps': {'VB': 0.8, 'NN': 0.2},\n",
        "    'over': {'IN': 0.7, 'RP': 0.3},\n",
        "    'the': {'DT': 0.9, 'RB': 0.1},\n",
        "    'lazy': {'JJ': 0.8, 'NN': 0.2},\n",
        "    'dog': {'NN': 0.9, 'VB': 0.1},\n",
        "}\n",
        "\n",
        "# Example sentence\n",
        "sentence = \"The quick brown fox jumps over the lazy dog.\"\n",
        "\n",
        "# Tokenize the sentence\n",
        "words = sentence.split()\n",
        "\n",
        "# Perform stochastic part-of-speech tagging\n",
        "pos_tags = []\n",
        "\n",
        "for word in words:\n",
        "    if word in pos_model:\n",
        "        # Use the probabilities to choose a POS tag stochastically\n",
        "        pos_tag = random.choices(list(pos_model[word].keys()), weights=pos_model[word].values())[0]\n",
        "    else:\n",
        "        # Default to 'NN' (noun) if the word is not in the model\n",
        "        pos_tag = 'NN'\n",
        "    pos_tags.append(pos_tag)\n",
        "\n",
        "# Print the result\n",
        "print(\"Word\\t\\tPOS Tag\")\n",
        "print(\"----------------------\")\n",
        "for word, pos_tag in zip(words, pos_tags):\n",
        "    print(f\"{word}\\t\\t{pos_tag}\")\n"
      ]
    },
    {
      "cell_type": "code",
      "source": [],
      "metadata": {
        "id": "PXZdyUNozsyg"
      },
      "execution_count": null,
      "outputs": []
    }
  ]
}
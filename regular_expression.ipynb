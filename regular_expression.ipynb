{
  "nbformat": 4,
  "nbformat_minor": 0,
  "metadata": {
    "colab": {
      "provenance": [],
      "authorship_tag": "ABX9TyPkthTjYLJlWKZacjamvUue",
      "include_colab_link": true
    },
    "kernelspec": {
      "name": "python3",
      "display_name": "Python 3"
    },
    "language_info": {
      "name": "python"
    }
  },
  "cells": [
    {
      "cell_type": "markdown",
      "metadata": {
        "id": "view-in-github",
        "colab_type": "text"
      },
      "source": [
        "<a href=\"https://colab.research.google.com/github/MohammedRafik0909/DSA0301-NLP/blob/main/regular_expression.ipynb\" target=\"_parent\"><img src=\"https://colab.research.google.com/assets/colab-badge.svg\" alt=\"Open In Colab\"/></a>"
      ]
    },
    {
      "cell_type": "code",
      "execution_count": 1,
      "metadata": {
        "colab": {
          "base_uri": "https://localhost:8080/"
        },
        "id": "MhS8ME3iCCKp",
        "outputId": "d0e3b78c-0136-4f49-a73a-4c490a2f63f3"
      },
      "outputs": [
        {
          "output_type": "stream",
          "name": "stdout",
          "text": [
            "Email addresses: ['john.doe@example.com']\n",
            "URLs: ['http://www.example.com']\n",
            "Text without URLs: Email me at john.doe@example.com or visit URL for more information.\n",
            "Words: ['Email', 'me', 'at', 'john', 'doe', 'example', 'com', 'or', 'visit', 'http', 'www', 'example', 'com', 'for', 'more', 'information']\n",
            "Occurrences of 'visit': 1\n"
          ]
        }
      ],
      "source": [
        "import re\n",
        "text = \"Email me at john.doe@example.com or visit http://www.example.com for more information.\"\n",
        "email_pattern = r'\\b[A-Za-z0-9._%+-]+@[A-Za-z0-9.-]+\\.[A-Z|a-z]{2,7}\\b'\n",
        "emails = re.findall(email_pattern, text)\n",
        "print(\"Email addresses:\", emails)\n",
        "url_pattern = r'http[s]?://(?:[a-zA-Z]|[0-9]|[$-_@.&+]|[!*\\(\\),]|(?:%[0-9a-fA-F][0-9a-fA-F]))+'\n",
        "urls = re.findall(url_pattern, text)\n",
        "print(\"URLs:\", urls)\n",
        "text_without_urls = re.sub(url_pattern, 'URL', text)\n",
        "print(\"Text without URLs:\", text_without_urls)\n",
        "word_pattern = r'\\w+'\n",
        "words = re.findall(word_pattern, text)\n",
        "print(\"Words:\", words)\n",
        "search_pattern = r'\\bvisit\\b'\n",
        "matches = re.findall(search_pattern, text)\n",
        "print(\"Occurrences of 'visit':\", len(matches))"
      ]
    },
    {
      "cell_type": "code",
      "source": [],
      "metadata": {
        "id": "E4Oi8s9wCJwZ"
      },
      "execution_count": null,
      "outputs": []
    }
  ]
}
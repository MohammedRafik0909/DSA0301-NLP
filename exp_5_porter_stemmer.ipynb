{
  "nbformat": 4,
  "nbformat_minor": 0,
  "metadata": {
    "colab": {
      "provenance": [],
      "authorship_tag": "ABX9TyOciHzBObE21IRta5wUdK6y",
      "include_colab_link": true
    },
    "kernelspec": {
      "name": "python3",
      "display_name": "Python 3"
    },
    "language_info": {
      "name": "python"
    }
  },
  "cells": [
    {
      "cell_type": "markdown",
      "metadata": {
        "id": "view-in-github",
        "colab_type": "text"
      },
      "source": [
        "<a href=\"https://colab.research.google.com/github/MohammedRafik0909/DSA0301-NLP/blob/main/exp_5_porter_stemmer.ipynb\" target=\"_parent\"><img src=\"https://colab.research.google.com/assets/colab-badge.svg\" alt=\"Open In Colab\"/></a>"
      ]
    },
    {
      "cell_type": "code",
      "execution_count": null,
      "metadata": {
        "colab": {
          "base_uri": "https://localhost:8080/"
        },
        "id": "V1xBb_6Gub2X",
        "outputId": "fa39e710-7406-4ba0-c0d6-d385da5a4a70"
      },
      "outputs": [
        {
          "output_type": "stream",
          "name": "stdout",
          "text": [
            "running -> run\n",
            "plays -> play\n",
            "happiness -> happi\n",
            "jumps -> jump\n",
            "happily -> happili\n",
            "running -> run\n"
          ]
        }
      ],
      "source": [
        "from nltk.stem import PorterStemmer\n",
        "from nltk.tokenize import word_tokenize\n",
        "\n",
        "# Initialize the Porter Stemmer\n",
        "porter = PorterStemmer()\n",
        "\n",
        "# Example list of words\n",
        "words = [\"running\", \"plays\", \"happiness\", \"jumps\", \"happily\", \"running\"]\n",
        "\n",
        "# Perform stemming on each word\n",
        "stemmed_words = [porter.stem(word) for word in words]\n",
        "\n",
        "# Print the original and stemmed words\n",
        "for original, stemmed in zip(words, stemmed_words):\n",
        "    print(f\"{original} -> {stemmed}\")\n"
      ]
    },
    {
      "cell_type": "code",
      "source": [],
      "metadata": {
        "id": "03LzjnBJukn7"
      },
      "execution_count": null,
      "outputs": []
    }
  ]
}
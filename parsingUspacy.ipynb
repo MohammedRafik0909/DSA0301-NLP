{
  "cells": [
    {
      "cell_type": "markdown",
      "metadata": {
        "id": "view-in-github",
        "colab_type": "text"
      },
      "source": [
        "<a href=\"https://colab.research.google.com/github/MohammedRafik0909/DSA0301-NLP/blob/main/parsingUspacy.ipynb\" target=\"_parent\"><img src=\"https://colab.research.google.com/assets/colab-badge.svg\" alt=\"Open In Colab\"/></a>"
      ]
    },
    {
      "cell_type": "code",
      "execution_count": null,
      "metadata": {
        "id": "G2NYrYNR3ZTa"
      },
      "outputs": [],
      "source": [
        " import spacy"
      ]
    },
    {
      "cell_type": "code",
      "execution_count": null,
      "metadata": {
        "id": "Uve_Ml4y-G3l"
      },
      "outputs": [],
      "source": [
        "nlp=spacy.load(\n",
        "    'en_core_web_sm'\n",
        ")\n"
      ]
    },
    {
      "cell_type": "code",
      "execution_count": null,
      "metadata": {
        "id": "H3hLDmHU-O2Z"
      },
      "outputs": [],
      "source": [
        "sentence=\"she eats an apple and runs a shop\"\n",
        "doc=nlp(sentence)"
      ]
    },
    {
      "cell_type": "code",
      "execution_count": 5,
      "metadata": {
        "id": "x-dwwatL-Tqn"
      },
      "outputs": [],
      "source": [
        "subcat_frames={}\n",
        "for token in doc:\n",
        "  if token.dep_=='dobj':\n",
        "    verb=token.head.text\n",
        "    obj=token.text\n",
        "    if verb not in subcat_frames:\n",
        "      subcat_frames[verb]=[]\n",
        "    subcat_frames[verb].append(obj)"
      ]
    },
    {
      "cell_type": "code",
      "source": [
        "for verb, objects in subcat_frames.items():\n",
        "  print(f\"{verb}: {','.join(objects)}\")"
      ],
      "metadata": {
        "colab": {
          "base_uri": "https://localhost:8080/"
        },
        "id": "H-qeKfUD-2A2",
        "outputId": "5cc2c1b4-0e23-4a15-cfa4-b81f27013dc8"
      },
      "execution_count": 6,
      "outputs": [
        {
          "output_type": "stream",
          "name": "stdout",
          "text": [
            "eats: apple\n",
            "runs: shop\n"
          ]
        }
      ]
    },
    {
      "cell_type": "code",
      "source": [
        "for token in doc:\n",
        "    print(f\"{token.text} --{token.dep_}--> {token.head.text}\")"
      ],
      "metadata": {
        "colab": {
          "base_uri": "https://localhost:8080/"
        },
        "id": "ktM7-GjU-5bl",
        "outputId": "63c26c97-0c41-4b27-b2d0-41165eb88c79"
      },
      "execution_count": 7,
      "outputs": [
        {
          "output_type": "stream",
          "name": "stdout",
          "text": [
            "she --nsubj--> eats\n",
            "eats --ROOT--> eats\n",
            "an --det--> apple\n",
            "apple --dobj--> eats\n",
            "and --cc--> eats\n",
            "runs --conj--> eats\n",
            "a --det--> shop\n",
            "shop --dobj--> runs\n"
          ]
        }
      ]
    },
    {
      "cell_type": "code",
      "source": [],
      "metadata": {
        "id": "S_3W-9b2-8bG"
      },
      "execution_count": null,
      "outputs": []
    }
  ],
  "metadata": {
    "colab": {
      "provenance": [],
      "authorship_tag": "ABX9TyOiCfhmkpCJKyWka8A7/noi",
      "include_colab_link": true
    },
    "kernelspec": {
      "display_name": "Python 3",
      "name": "python3"
    },
    "language_info": {
      "name": "python"
    }
  },
  "nbformat": 4,
  "nbformat_minor": 0
}
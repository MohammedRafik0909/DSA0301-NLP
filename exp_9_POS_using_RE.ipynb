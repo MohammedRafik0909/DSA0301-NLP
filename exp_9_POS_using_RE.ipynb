{
  "nbformat": 4,
  "nbformat_minor": 0,
  "metadata": {
    "colab": {
      "provenance": [],
      "authorship_tag": "ABX9TyNsexwyxd+C/vLcjbMAGRgt",
      "include_colab_link": true
    },
    "kernelspec": {
      "name": "python3",
      "display_name": "Python 3"
    },
    "language_info": {
      "name": "python"
    }
  },
  "cells": [
    {
      "cell_type": "markdown",
      "metadata": {
        "id": "view-in-github",
        "colab_type": "text"
      },
      "source": [
        "<a href=\"https://colab.research.google.com/github/MohammedRafik0909/DSA0301-NLP/blob/main/exp_9_POS_using_RE.ipynb\" target=\"_parent\"><img src=\"https://colab.research.google.com/assets/colab-badge.svg\" alt=\"Open In Colab\"/></a>"
      ]
    },
    {
      "cell_type": "code",
      "source": [
        "import nltk\n",
        "nltk.download('punkt')\n"
      ],
      "metadata": {
        "colab": {
          "base_uri": "https://localhost:8080/"
        },
        "id": "AksBokLsOYou",
        "outputId": "4e98b4f0-31a1-450c-a72e-0b573b99644f"
      },
      "execution_count": 8,
      "outputs": [
        {
          "output_type": "stream",
          "name": "stderr",
          "text": [
            "[nltk_data] Downloading package punkt to /root/nltk_data...\n",
            "[nltk_data]   Unzipping tokenizers/punkt.zip.\n"
          ]
        },
        {
          "output_type": "execute_result",
          "data": {
            "text/plain": [
              "True"
            ]
          },
          "metadata": {},
          "execution_count": 8
        }
      ]
    },
    {
      "cell_type": "code",
      "source": [
        "import re\n",
        "\n",
        "def pos_tagging(text):\n",
        "    # Define regular expression patterns for common parts of speech\n",
        "    patterns = [\n",
        "        (r'\\b(?:dog|cat|bird)\\b', 'NOUN'),  # Nouns: dog, cat, bird\n",
        "        (r'\\b(?:run|jump|eat)\\b', 'VERB'),  # Verbs: run, jump, eat\n",
        "        (r'\\b(?:big|small|fast)\\b', 'ADJ'),  # Adjectives: big, small, fast\n",
        "        (r'\\b(?:quickly|slowly)\\b', 'ADV'),  # Adverbs: quickly, slowly\n",
        "    ]\n",
        "\n",
        "    # Apply the patterns to the input text\n",
        "    for pattern, pos_tag in patterns:\n",
        "        text = re.sub(pattern, pos_tag, text)\n",
        "\n",
        "    # Return the tagged text\n",
        "    return text\n",
        "\n",
        "# Example usage\n",
        "input_text = \"The quick brown fox jumps over the lazy dog.\"\n",
        "tagged_text = pos_tagging(input_text)\n",
        "print(tagged_text)\n"
      ],
      "metadata": {
        "colab": {
          "base_uri": "https://localhost:8080/"
        },
        "id": "0k5Hop0SOOlh",
        "outputId": "6ad74489-69bf-41b9-8155-b611fec6f6dc"
      },
      "execution_count": 14,
      "outputs": [
        {
          "output_type": "stream",
          "name": "stdout",
          "text": [
            "The quick brown fox jumps over the lazy NOUN.\n"
          ]
        }
      ]
    },
    {
      "cell_type": "code",
      "source": [],
      "metadata": {
        "id": "F5Z7q7prPa4F"
      },
      "execution_count": null,
      "outputs": []
    }
  ]
}
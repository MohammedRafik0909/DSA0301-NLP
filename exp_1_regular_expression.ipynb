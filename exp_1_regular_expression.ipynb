{
  "nbformat": 4,
  "nbformat_minor": 0,
  "metadata": {
    "colab": {
      "provenance": [],
      "authorship_tag": "ABX9TyOBPLXu6x0v9JA4vPZRhBcf",
      "include_colab_link": true
    },
    "kernelspec": {
      "name": "python3",
      "display_name": "Python 3"
    },
    "language_info": {
      "name": "python"
    }
  },
  "cells": [
    {
      "cell_type": "markdown",
      "metadata": {
        "id": "view-in-github",
        "colab_type": "text"
      },
      "source": [
        "<a href=\"https://colab.research.google.com/github/MohammedRafik0909/DSA0301-NLP/blob/main/exp_1_regular_expression.ipynb\" target=\"_parent\"><img src=\"https://colab.research.google.com/assets/colab-badge.svg\" alt=\"Open In Colab\"/></a>"
      ]
    },
    {
      "cell_type": "code",
      "execution_count": 2,
      "metadata": {
        "colab": {
          "base_uri": "https://localhost:8080/"
        },
        "id": "71e18vjaJDCb",
        "outputId": "8227e3d2-d08f-4865-c64c-cfd1a8cd3355"
      },
      "outputs": [
        {
          "output_type": "stream",
          "name": "stdout",
          "text": [
            "Found email addresses:\n",
            "user@example.com\n",
            "admin@test.com\n",
            "\n",
            "First email address found:\n",
            "user@example.com\n",
            "Start position: 30\n",
            "End position: 46\n"
          ]
        }
      ],
      "source": [
        "import re\n",
        "\n",
        "def main():\n",
        "    # Sample text\n",
        "    text = \"Hello, my email addresses are user@example.com and admin@test.com. Feel free to contact me!\"\n",
        "\n",
        "    # Define a pattern to match email addresses\n",
        "    email_pattern = r'\\b[A-Za-z0-9._%+-]+@[A-Za-z0-9.-]+\\.[A-Z|a-z]{2,}\\b'\n",
        "\n",
        "    # Use re.findall() to find all matches in the text\n",
        "    matches = re.findall(email_pattern, text)\n",
        "\n",
        "    if matches:\n",
        "        print(\"Found email addresses:\")\n",
        "        for match in matches:\n",
        "            print(match)\n",
        "    else:\n",
        "        print(\"No email addresses found.\")\n",
        "\n",
        "    # Use re.search() to find the first match in the text\n",
        "    search_result = re.search(email_pattern, text)\n",
        "    if search_result:\n",
        "        print(\"\\nFirst email address found:\")\n",
        "        print(search_result.group())\n",
        "        print(\"Start position:\", search_result.start())\n",
        "        print(\"End position:\", search_result.end())\n",
        "    else:\n",
        "        print(\"\\nNo email address found in the first search.\")\n",
        "\n",
        "if __name__ == \"__main__\":\n",
        "    main()"
      ]
    },
    {
      "cell_type": "code",
      "source": [],
      "metadata": {
        "id": "hg3-4AJRLSCk"
      },
      "execution_count": 1,
      "outputs": []
    }
  ]
}
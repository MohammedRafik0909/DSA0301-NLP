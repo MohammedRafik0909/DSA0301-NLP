{
  "nbformat": 4,
  "nbformat_minor": 0,
  "metadata": {
    "colab": {
      "provenance": [],
      "authorship_tag": "ABX9TyPekmAZsMN619JZXDcAeh6i",
      "include_colab_link": true
    },
    "kernelspec": {
      "name": "python3",
      "display_name": "Python 3"
    },
    "language_info": {
      "name": "python"
    }
  },
  "cells": [
    {
      "cell_type": "markdown",
      "metadata": {
        "id": "view-in-github",
        "colab_type": "text"
      },
      "source": [
        "<a href=\"https://colab.research.google.com/github/MohammedRafik0909/DSA0301-NLP/blob/main/earley_parsing1.ipynb\" target=\"_parent\"><img src=\"https://colab.research.google.com/assets/colab-badge.svg\" alt=\"Open In Colab\"/></a>"
      ]
    },
    {
      "cell_type": "code",
      "execution_count": 13,
      "metadata": {
        "colab": {
          "base_uri": "https://localhost:8080/"
        },
        "id": "29KVsAOAiAXb",
        "outputId": "f45c4714-34d6-4387-a1ef-54eb4d890b3e"
      },
      "outputs": [
        {
          "output_type": "stream",
          "name": "stdout",
          "text": [
            "category:Noun\n",
            "person:3rd\n",
            "number:singular\n",
            "category:verb\n",
            "person:1st\n",
            "number:singular\n"
          ]
        }
      ],
      "source": [
        "word_features = {\n",
        "    \"category\": \"Noun\", 'person':'3rd',\n",
        "    'number':'singular'\n",
        "}\n",
        "for feature, value in word_features.items():\n",
        "  print(f\"{feature}:{value}\")\n",
        "another_word_feature = {\n",
        "    'category':'verb',\n",
        "    'person':'1st',\n",
        "    'number':'singular'\n",
        "}\n",
        "for feature,value in another_word_feature.items():\n",
        "  print(f'{feature}:{value}')"
      ]
    },
    {
      "cell_type": "code",
      "source": [],
      "metadata": {
        "id": "gXUnU7oBjYtT"
      },
      "execution_count": null,
      "outputs": []
    }
  ]
}
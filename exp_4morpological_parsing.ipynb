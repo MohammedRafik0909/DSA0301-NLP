{
  "nbformat": 4,
  "nbformat_minor": 0,
  "metadata": {
    "colab": {
      "provenance": [],
      "authorship_tag": "ABX9TyP+aR1U9v/XIkh6IdJGVcqz",
      "include_colab_link": true
    },
    "kernelspec": {
      "name": "python3",
      "display_name": "Python 3"
    },
    "language_info": {
      "name": "python"
    }
  },
  "cells": [
    {
      "cell_type": "markdown",
      "metadata": {
        "id": "view-in-github",
        "colab_type": "text"
      },
      "source": [
        "<a href=\"https://colab.research.google.com/github/MohammedRafik0909/DSA0301-NLP/blob/main/exp_4morpological_parsing.ipynb\" target=\"_parent\"><img src=\"https://colab.research.google.com/assets/colab-badge.svg\" alt=\"Open In Colab\"/></a>"
      ]
    },
    {
      "cell_type": "code",
      "execution_count": 1,
      "metadata": {
        "colab": {
          "base_uri": "https://localhost:8080/"
        },
        "id": "1qSXPMZgWeU8",
        "outputId": "77702c50-4354-4c6b-bf09-11e677eeee6a"
      },
      "outputs": [
        {
          "output_type": "stream",
          "name": "stdout",
          "text": [
            "cat (singular) => cats (plural)\n",
            "dog (singular) => dogs (plural)\n",
            "book (singular) => books (plural)\n",
            "dish (singular) => dishs (plural)\n",
            "church (singular) => churchs (plural)\n",
            "box (singular) => boxs (plural)\n",
            "bus (singular) => buss (plural)\n",
            "baby (singular) => babys (plural)\n"
          ]
        }
      ],
      "source": [
        "class PluralizationFSM:\n",
        "    def __init__(self):\n",
        "        self.state = 0  # Initial state\n",
        "\n",
        "    def pluralize_noun(self, noun):\n",
        "        if self.state == 0 and noun.endswith(\"y\"):\n",
        "            self.state = 1  # Change \"y\" to \"ies\" if it's at the end\n",
        "            return noun[:-1] + \"ies\"\n",
        "        elif self.state == 0 and noun.endswith((\"s\", \"x\", \"z\", \"sh\", \"ch\")):\n",
        "            self.state = 1  # Add \"es\" if it ends with certain letters\n",
        "            return noun + \"es\"\n",
        "        else:\n",
        "            self.state = 1\n",
        "            return noun + \"s\"\n",
        "\n",
        "# Test the finite-state machine\n",
        "pluralizer = PluralizationFSM()\n",
        "\n",
        "nouns = [\"cat\", \"dog\", \"book\", \"dish\", \"church\", \"box\", \"bus\", \"baby\"]\n",
        "for noun in nouns:\n",
        "    plural_form = pluralizer.pluralize_noun(noun)\n",
        "    print(f\"{noun} (singular) => {plural_form} (plural)\")\n"
      ]
    },
    {
      "cell_type": "code",
      "source": [],
      "metadata": {
        "id": "9eNncKVfWffO"
      },
      "execution_count": null,
      "outputs": []
    }
  ]
}
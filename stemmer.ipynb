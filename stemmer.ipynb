{
  "nbformat": 4,
  "nbformat_minor": 0,
  "metadata": {
    "colab": {
      "provenance": [],
      "authorship_tag": "ABX9TyO5/6r7x35TLZR4NVujLH3A",
      "include_colab_link": true
    },
    "kernelspec": {
      "name": "python3",
      "display_name": "Python 3"
    },
    "language_info": {
      "name": "python"
    }
  },
  "cells": [
    {
      "cell_type": "markdown",
      "metadata": {
        "id": "view-in-github",
        "colab_type": "text"
      },
      "source": [
        "<a href=\"https://colab.research.google.com/github/MohammedRafik0909/DSA0301-NLP/blob/main/stemmer.ipynb\" target=\"_parent\"><img src=\"https://colab.research.google.com/assets/colab-badge.svg\" alt=\"Open In Colab\"/></a>"
      ]
    },
    {
      "cell_type": "code",
      "execution_count": 1,
      "metadata": {
        "colab": {
          "base_uri": "https://localhost:8080/"
        },
        "id": "WU1apCyRzkjj",
        "outputId": "3e8c5caf-46aa-4ba2-83b6-5b305f80044e"
      },
      "outputs": [
        {
          "output_type": "stream",
          "name": "stdout",
          "text": [
            "Requirement already satisfied: nltk in /usr/local/lib/python3.10/dist-packages (3.8.1)\n",
            "Requirement already satisfied: click in /usr/local/lib/python3.10/dist-packages (from nltk) (8.1.7)\n",
            "Requirement already satisfied: joblib in /usr/local/lib/python3.10/dist-packages (from nltk) (1.3.2)\n",
            "Requirement already satisfied: regex>=2021.8.3 in /usr/local/lib/python3.10/dist-packages (from nltk) (2023.6.3)\n",
            "Requirement already satisfied: tqdm in /usr/local/lib/python3.10/dist-packages (from nltk) (4.66.1)\n"
          ]
        }
      ],
      "source": [
        "pip install nltk"
      ]
    },
    {
      "cell_type": "code",
      "source": [
        "import nltk\n",
        "from nltk.stem import PorterStemmer\n",
        "\n",
        "nltk.download(\"punkt\")\n",
        "\n",
        "\n",
        "stemmer = PorterStemmer()\n",
        "\n",
        "sentences = [\n",
        "    \"I am running in the park\",\n",
        "    \"The running shoes are on sale\",\n",
        "    \"She ran to catch the bus\"\n",
        "]\n",
        "\n",
        "\n",
        "for i in sentences:\n",
        "    words = nltk.word_tokenize(i)\n",
        "    stemmed_words = [stemmer.stem(word) for word in words]\n",
        "    stemmed_sentences = \" \".join(stemmed_words)\n",
        "    print(f\"Original: {i}\")\n",
        "    print(f\"Stemmed : {stemmed_sentences}\\n\")\n"
      ],
      "metadata": {
        "colab": {
          "base_uri": "https://localhost:8080/"
        },
        "id": "WKQpADSm0sQt",
        "outputId": "630047ee-7b12-4629-bcc6-c41d95ff59e2"
      },
      "execution_count": 5,
      "outputs": [
        {
          "output_type": "stream",
          "name": "stdout",
          "text": [
            "Original: I am running in the park\n",
            "Stemmed : i am run in the park\n",
            "\n",
            "Original: The running shoes are on sale\n",
            "Stemmed : the run shoe are on sale\n",
            "\n",
            "Original: She ran to catch the bus\n",
            "Stemmed : she ran to catch the bu\n",
            "\n"
          ]
        },
        {
          "output_type": "stream",
          "name": "stderr",
          "text": [
            "[nltk_data] Downloading package punkt to /root/nltk_data...\n",
            "[nltk_data]   Package punkt is already up-to-date!\n"
          ]
        }
      ]
    },
    {
      "cell_type": "code",
      "source": [],
      "metadata": {
        "id": "ATgtdYLk65W_"
      },
      "execution_count": null,
      "outputs": []
    }
  ]
}
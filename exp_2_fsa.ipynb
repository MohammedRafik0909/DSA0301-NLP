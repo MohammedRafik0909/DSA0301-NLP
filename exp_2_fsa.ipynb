{
  "nbformat": 4,
  "nbformat_minor": 0,
  "metadata": {
    "colab": {
      "provenance": [],
      "authorship_tag": "ABX9TyMJUKbsAQZRBIHzHf1+Xq/u",
      "include_colab_link": true
    },
    "kernelspec": {
      "name": "python3",
      "display_name": "Python 3"
    },
    "language_info": {
      "name": "python"
    }
  },
  "cells": [
    {
      "cell_type": "markdown",
      "metadata": {
        "id": "view-in-github",
        "colab_type": "text"
      },
      "source": [
        "<a href=\"https://colab.research.google.com/github/MohammedRafik0909/DSA0301-NLP/blob/main/exp_2_fsa.ipynb\" target=\"_parent\"><img src=\"https://colab.research.google.com/assets/colab-badge.svg\" alt=\"Open In Colab\"/></a>"
      ]
    },
    {
      "cell_type": "code",
      "source": [
        "def recognize_string_ending_with_ab(input_string):\n",
        "    return input_string.endswith(\"ab\")\n",
        "\n",
        "# Test the function\n",
        "input_strings = [\"ab\", \"aab\", \"abb\", \"abc\", \"ba\"]\n",
        "for input_string in input_strings:\n",
        "    if recognize_string_ending_with_ab(input_string):\n",
        "        print(f\"'{input_string}' matches the pattern.\")\n",
        "    else:\n",
        "        print(f\"'{input_string}' does not match the pattern.\")\n"
      ],
      "metadata": {
        "colab": {
          "base_uri": "https://localhost:8080/"
        },
        "id": "1DsWtQbaSJip",
        "outputId": "5d806094-6b18-4be9-9c3b-e8d9367096c3"
      },
      "execution_count": 4,
      "outputs": [
        {
          "output_type": "stream",
          "name": "stdout",
          "text": [
            "'ab' matches the pattern.\n",
            "'aab' matches the pattern.\n",
            "'abb' does not match the pattern.\n",
            "'abc' does not match the pattern.\n",
            "'ba' does not match the pattern.\n"
          ]
        }
      ]
    },
    {
      "cell_type": "code",
      "source": [],
      "metadata": {
        "id": "MCXmgNDmT07B"
      },
      "execution_count": null,
      "outputs": []
    }
  ]
}